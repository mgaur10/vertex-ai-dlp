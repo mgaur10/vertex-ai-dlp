{
 "cells": [
  {
   "cell_type": "code",
   "execution_count": null,
   "id": "bda35fa5",
   "metadata": {},
   "outputs": [],
   "source": [
    "# Copyright 2023 Google LLC\n",
    "#\n",
    "# Licensed under the Apache License, Version 2.0 (the \"License\");\n",
    "# you may not use this file except in compliance with the License.\n",
    "# You may obtain a copy of the License at\n",
    "#\n",
    "#     https://www.apache.org/licenses/LICENSE-2.0\n",
    "#\n",
    "# Unless required by applicable law or agreed to in writing, software\n",
    "# distributed under the License is distributed on an \"AS IS\" BASIS,\n",
    "# WITHOUT WARRANTIES OR CONDITIONS OF ANY KIND, either express or implied.\n",
    "# See the License for the specific language governing permissions and\n",
    "# limitations under the License."
   ]
  },
  {
   "cell_type": "code",
   "execution_count": null,
   "id": "81f2fa54",
   "metadata": {},
   "outputs": [],
   "source": [
    "import requests\n",
    "\n",
    "proxy_ip=!curl \"http://metadata.google.internal/computeMetadata/v1/instance/attributes/PROXY_IP\" -H \"Metadata-Flavor: Google\"\n",
    "proxy_ip=(proxy_ip[5])\n",
    "proxies = {'https': proxy_ip}\n",
    "print(\"{}\".format(proxies))"
   ]
  },
  {
   "cell_type": "code",
   "execution_count": null,
   "id": "af461675",
   "metadata": {},
   "outputs": [],
   "source": [
    "# Whitelisted domains in secure web proxy:\n",
    "#    github.com\n",
    "#    pypi.org\n",
    "#    pypi.python.org\n",
    "#    files.pythonhosted.org\n",
    "#    packaging.python.org\n",
    "#    cloud.r-project.org"
   ]
  },
  {
   "cell_type": "code",
   "execution_count": null,
   "id": "c43e7ded",
   "metadata": {},
   "outputs": [],
   "source": [
    "unauthorized_url = requests.get('http://cloud.google.com/robots.txt', proxies=proxies)\n",
    "print(f'Status Code: {unauthorized_url.status_code}')"
   ]
  },
  {
   "cell_type": "code",
   "execution_count": null,
   "id": "7157a837",
   "metadata": {},
   "outputs": [],
   "source": [
    "whitelisted_url = requests.get('https://github.com/GCP-Architecture-Guides/csa-user-managed-vertex-AI-workbench', proxies=proxies)\n",
    "print(f'Status Code: {whitelisted_url.status_code}')"
   ]
  },
  {
   "cell_type": "code",
   "execution_count": null,
   "id": "252fa78f",
   "metadata": {},
   "outputs": [],
   "source": [
    "! pip install --trusted-host pypi.org --trusted-host pypi.python.org --trusted-host files.pythonhosted.org pip setuptools"
   ]
  },
  {
   "cell_type": "code",
   "execution_count": null,
   "id": "c97e03f2",
   "metadata": {},
   "outputs": [],
   "source": [
    "! pip3 install --trusted-host --upgrade  google-cloud-aiplatform --proxy \"http://{proxy_ip}\""
   ]
  },
  {
   "cell_type": "code",
   "execution_count": null,
   "id": "078b597e",
   "metadata": {},
   "outputs": [],
   "source": [
    "! pip3 install --trusted-host --upgrade  tensorflow==2.11.0 --proxy \"http://{proxy_ip}\""
   ]
  },
  {
   "cell_type": "code",
   "execution_count": null,
   "id": "0b58b3b7",
   "metadata": {},
   "outputs": [],
   "source": [
    "project_id=!curl \"http://metadata.google.internal/computeMetadata/v1/instance/attributes/PROJ_ID\" -H \"Metadata-Flavor: Google\"\n",
    "project_id=(project_id[5])\n",
    "print(\"Vertex project id: {}\".format(project_id))"
   ]
  },
  {
   "cell_type": "code",
   "execution_count": null,
   "id": "48ffdfc8",
   "metadata": {},
   "outputs": [],
   "source": [
    "data_project_id=!curl \"http://metadata.google.internal/computeMetadata/v1/instance/attributes/DATA_PROJ_ID\" -H \"Metadata-Flavor: Google\"\n",
    "data_project_id=(data_project_id[5])\n",
    "print(\"Data project id: {}\".format(data_project_id))"
   ]
  },
  {
   "cell_type": "code",
   "execution_count": null,
   "id": "d5e419b2",
   "metadata": {},
   "outputs": [],
   "source": [
    "dataset_id=!curl \"http://metadata.google.internal/computeMetadata/v1/instance/attributes/DATASET\" -H \"Metadata-Flavor: Google\"\n",
    "dataset_id=(dataset_id[5])\n",
    "print(\"BigQuery data set id: {}\".format(dataset_id))"
   ]
  },
  {
   "cell_type": "code",
   "execution_count": null,
   "id": "223accd6-e502-4a82-bd92-db2d90f0d34e",
   "metadata": {},
   "outputs": [],
   "source": [
    "bucket_name=!curl \"http://metadata.google.internal/computeMetadata/v1/instance/attributes/DATA_BUCKET\" -H \"Metadata-Flavor: Google\"\n",
    "bucket_name=(bucket_name[5])\n",
    "print(\"GCS storage bucket name: {}\".format(bucket_name))"
   ]
  },
  {
   "cell_type": "code",
   "execution_count": 8,
   "id": "dbd57856-b368-4032-b02d-ae3144de46f5",
   "metadata": {},
   "outputs": [],
   "source": []
  },
  {
   "cell_type": "code",
   "execution_count": null,
   "id": "9c499f77-7f59-46f7-88e3-10febce3b421",
   "metadata": {},
   "outputs": [],
   "source": [
    "!gsutil ls gs://{bucket_name}"
   ]
  },
  {
   "cell_type": "code",
   "execution_count": null,
   "id": "47b55078-5c27-4f47-9257-2e29058c8af6",
   "metadata": {},
   "outputs": [],
   "source": [
    "from google.cloud import bigquery\n",
    "\n",
    "# Construct a BigQuery client object.\n",
    "client = bigquery.Client()\n",
    "\n",
    "# TODO(developer): Set dataset_id to the ID of the dataset to fetch.\n",
    "dataset_id = dataset_id\n",
    "\n",
    "dataset = client.get_dataset(dataset_id)  # Make an API request.\n",
    "\n",
    "full_dataset_id = \"{}.{}\".format(dataset.project, dataset.dataset_id)\n",
    "\n",
    "# View dataset properties.\n",
    "print(\"Description: {}\".format(dataset.description))\n",
    "print(\"Labels:\")\n",
    "labels = dataset.labels\n",
    "if labels:\n",
    "    for label, value in labels.items():\n",
    "        print(\"\\t{}: {}\".format(label, value))\n",
    "else:\n",
    "    print(\"\\tDataset has no labels defined.\")\n",
    "\n",
    "# View tables in dataset.\n",
    "print(\"Tables:\")\n",
    "tables = list(client.list_tables(dataset))  # Make an API request(s).\n",
    "if tables:\n",
    "    for table in tables:\n",
    "        print(\"\\t{}\".format(table.table_id))\n",
    "else:\n",
    "    print(\"\\tThis dataset does not contain any tables.\")"
   ]
  },
  {
   "cell_type": "code",
   "execution_count": 1,
   "id": "e7304c9c-d617-4d00-95d3-3dfeaefb7e5d",
   "metadata": {},
   "outputs": [],
   "source": []
  },
  {
   "cell_type": "code",
   "execution_count": 2,
   "id": "6016e961-47ef-441b-8200-4eacd2d7a263",
   "metadata": {},
   "outputs": [],
   "source": []
  },
  {
   "cell_type": "code",
   "execution_count": null,
   "id": "32b47947-08fa-45a4-844b-94274510cad1",
   "metadata": {},
   "outputs": [],
   "source": []
  },
  {
   "cell_type": "code",
   "execution_count": null,
   "id": "ca858f14-569b-4a8c-9b88-34feae3a1d01",
   "metadata": {},
   "outputs": [],
   "source": []
  },
  {
   "cell_type": "code",
   "execution_count": null,
   "id": "dc91e83a-be82-4267-a774-7c562af588e6",
   "metadata": {},
   "outputs": [],
   "source": []
  },
  {
   "cell_type": "code",
   "execution_count": null,
   "id": "316ee517",
   "metadata": {},
   "outputs": [],
   "source": []
  }
 ],
 "metadata": {
  "environment": {
   "kernel": "python3",
   "name": "tf2-gpu.2-6.m108",
   "type": "gcloud",
   "uri": "gcr.io/deeplearning-platform-release/tf2-gpu.2-6:m108"
  },
  "kernelspec": {
   "display_name": "Python 3 (ipykernel)",
   "language": "python",
   "name": "python3"
  },
  "language_info": {
   "codemirror_mode": {
    "name": "ipython",
    "version": 3
   },
   "file_extension": ".py",
   "mimetype": "text/x-python",
   "name": "python",
   "nbconvert_exporter": "python",
   "pygments_lexer": "ipython3",
   "version": "3.9.16"
  }
 },
 "nbformat": 4,
 "nbformat_minor": 5
}
